{
 "cells": [
  {
   "cell_type": "code",
   "execution_count": 1,
   "id": "a5ca2312",
   "metadata": {},
   "outputs": [],
   "source": [
    "#importing all tweets from March 10, 2022 - June 3, 2022 with text \"Morbius\"\n",
    "\n",
    "import snscrape.modules.twitter as sntwitter\n",
    "import pandas as pd"
   ]
  },
  {
   "cell_type": "code",
   "execution_count": 2,
   "id": "e084f368",
   "metadata": {},
   "outputs": [],
   "source": [
    "#Create list to house the data that we scrape\n",
    "\n",
    "morbius_tweets = []\n"
   ]
  },
  {
   "cell_type": "code",
   "execution_count": 3,
   "id": "b5218165",
   "metadata": {
    "scrolled": true
   },
   "outputs": [],
   "source": [
    "# #using twittersearchscraper scrape data and house these tweets into the list \n",
    "#     #<enumerate()> a for-loop with a built in counter\n",
    "    \n",
    "# for i,tweet in enumerate(sntwitter.TwitterSearchScraper('morbius since:2022-03-10 until:2022-06-3').get_items()):\n",
    "#     if i>1000:\n",
    "#         break\n",
    "#     morbius_tweets.append([tweet.date, tweet.id, tweet.content, tweet.user])\n",
    "    "
   ]
  },
  {
   "cell_type": "code",
   "execution_count": 4,
   "id": "56eed372",
   "metadata": {
    "scrolled": false
   },
   "outputs": [
    {
     "name": "stdout",
     "output_type": "stream",
     "text": [
      "200000\n"
     ]
    }
   ],
   "source": [
    "# query to count how many tweets there are total with Morbius within the designated time frame\n",
    "count_tweet = 0\n",
    "for i,tweet in enumerate(sntwitter.TwitterSearchScraper('morbius since:2022-03-10 until:2022-06-3').get_items()):\n",
    "    if i>200000:\n",
    "        break \n",
    "    count_tweet = i\n",
    "print(count_tweet)\n",
    "        \n",
    "    \n",
    "#i>100000 --> Success\n",
    "#i>100500 --> Success\n",
    "#i>105000 --> Success\n",
    "#i>120000 --> Success\n",
    "#i>125000 --> Success\n",
    "#i>130000 --> Success\n",
    "#i>145000 --> Success\n",
    "#i>200000 --> \n",
    "\n",
    "#i>666666 --> Failed\n",
    "#i>1000000 --> Failed \n",
    "#i>666666 --> Failed\n",
    "    \n"
   ]
  },
  {
   "cell_type": "code",
   "execution_count": null,
   "id": "bb5661ea",
   "metadata": {},
   "outputs": [],
   "source": [
    "#Creating a dataframe from the tweets list above\n",
    "morbius_tweets = pd.DataFrame(morbius_tweets, columns=['Datetime', 'Tweet ID', 'Text', 'Username'])\n",
    "\n",
    "\n"
   ]
  },
  {
   "cell_type": "code",
   "execution_count": null,
   "id": "95572b94",
   "metadata": {},
   "outputs": [],
   "source": [
    "morbius_tweets"
   ]
  },
  {
   "cell_type": "code",
   "execution_count": null,
   "id": "883871f3",
   "metadata": {},
   "outputs": [],
   "source": [
    "## FOR REFERENCE BIG PLAYERS ##\n",
    "import snscrape.modules.twitter as sntwitter\n",
    "import pandas as pd\n",
    "\n",
    "# Creating list to append tweet data to\n",
    "tweets_list2 = []\n",
    "\n",
    "# Using TwitterSearchScraper to scrape data and append tweets to list\n",
    "for i,tweet in enumerate(sntwitter.TwitterSearchScraper('its the elephant since:2020-06-01 until:2020-07-31').get_items()):\n",
    "    if i>500:\n",
    "        break\n",
    "    tweets_list2.append([tweet.date, tweet.id, tweet.content, tweet.user.username])\n",
    "    \n",
    "# Creating a dataframe from the tweets list above\n",
    "tweets_df2 = pd.DataFrame(tweets_list2, columns=['Datetime', 'Tweet Id', 'Text', 'Username'])"
   ]
  }
 ],
 "metadata": {
  "kernelspec": {
   "display_name": "Python 3 (ipykernel)",
   "language": "python",
   "name": "python3"
  },
  "language_info": {
   "codemirror_mode": {
    "name": "ipython",
    "version": 3
   },
   "file_extension": ".py",
   "mimetype": "text/x-python",
   "name": "python",
   "nbconvert_exporter": "python",
   "pygments_lexer": "ipython3",
   "version": "3.10.7"
  }
 },
 "nbformat": 4,
 "nbformat_minor": 5
}
